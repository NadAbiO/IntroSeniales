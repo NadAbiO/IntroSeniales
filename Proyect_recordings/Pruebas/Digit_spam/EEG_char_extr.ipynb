{
 "cells": [
  {
   "cell_type": "code",
   "execution_count": 10,
   "metadata": {},
   "outputs": [
    {
     "name": "stdout",
     "output_type": "stream",
     "text": [
      "Processing channel Fp1 with 156 windows\n",
      "Processing channel Fp2 with 156 windows\n",
      "Processing channel F3 with 156 windows\n",
      "Processing channel F4 with 156 windows\n",
      "Processing channel C3 with 156 windows\n",
      "Processing channel C4 with 156 windows\n",
      "Processing channel P3 with 156 windows\n",
      "Processing channel P4 with 156 windows\n",
      "Data processing complete. CSV file saved.\n"
     ]
    }
   ],
   "source": [
    "import pandas as pd\n",
    "import numpy as np\n",
    "from pywt import wavedec\n",
    "\n",
    "def wavelet_avg_features(data, type_wav, epsilon=1e-10):\n",
    "    coeffs = wavedec(data, type_wav, level=5)\n",
    "    \n",
    "    def safe_log(x, eps=epsilon):\n",
    "        return np.log(x + eps)\n",
    "    \n",
    "    cD_Energy = np.mean([np.sum(np.square(coeffs[i])) for i in range(1, 6)])\n",
    "    cA_Energy = np.sum(np.square(coeffs[0]))\n",
    "    \n",
    "    D_Entropy = np.mean([np.sum(np.square(coeffs[i]) * safe_log(np.square(coeffs[i]))) for i in range(1, 6)])\n",
    "    A_Entropy = np.sum(np.square(coeffs[0]) * safe_log(np.square(coeffs[0])))\n",
    "    \n",
    "    D_mean = np.mean([np.mean(coeffs[i]) for i in range(1, 6)])\n",
    "    A_mean = np.mean(coeffs[0])\n",
    "    \n",
    "    D_std = np.mean([np.std(coeffs[i]) for i in range(1, 6)])\n",
    "    A_std = np.std(coeffs[0])\n",
    "    \n",
    "    features = [cD_Energy, cA_Energy, D_Entropy, A_Entropy, D_mean, A_mean, D_std, A_std]\n",
    "    return features\n",
    "\n",
    "def save_to_csv(df, filename, normalize=True):\n",
    "    if normalize:\n",
    "        df = (df - df.mean()) / df.std()\n",
    "    df.to_csv(filename + '.csv', index=False)\n",
    "\n",
    "# Cargar datos desde un archivo de Excel usando openpyxl\n",
    "data = pd.read_excel('Nadira.xlsx', header=None, engine='openpyxl')\n",
    "\n",
    "# Suponiendo que la data está dividida en 8 filas, cada fila representa un canal\n",
    "channels = ['Fp1', 'Fp2', 'F3', 'F4', 'C3', 'C4', 'P3', 'P4']\n",
    "\n",
    "window_size = 40  # Tamaño de ventana para dividir los datos\n",
    "\n",
    "df = pd.DataFrame()\n",
    "for i, ch in enumerate(channels):\n",
    "    chanel_data = data.iloc[i, :].dropna().values  # Extraer los datos de cada canal y eliminar NaNs\n",
    "    features_list = []\n",
    "    num_windows = len(chanel_data) // window_size\n",
    "    \n",
    "    print(f\"Processing channel {ch} with {num_windows} windows\")  # Mensaje de depuración\n",
    "    \n",
    "    for w in range(num_windows):\n",
    "        row = chanel_data[w * window_size:(w + 1) * window_size]\n",
    "        features = wavelet_avg_features(row, 'db4')\n",
    "        features_list.append(features)\n",
    "    \n",
    "    if not features_list:\n",
    "        print(f\"No features calculated for channel {ch}\")  # Mensaje de depuración\n",
    "\n",
    "    df_channel = pd.DataFrame(features_list, columns=[f'{ch}_cD_Energy', f'{ch}_cA_Energy', f'{ch}_D_Entropy', f'{ch}_A_Entropy', f'{ch}_D_mean', f'{ch}_A_mean', f'{ch}_D_std', f'{ch}_A_std'])\n",
    "    df = pd.concat([df, df_channel], axis=1)\n",
    "\n",
    "save_to_csv(df, 'wave_all_channel_8_Feature')\n",
    "\n",
    "print(\"Data processing complete. CSV file saved.\")\n"
   ]
  }
 ],
 "metadata": {
  "kernelspec": {
   "display_name": "ISB_2024",
   "language": "python",
   "name": "python3"
  },
  "language_info": {
   "codemirror_mode": {
    "name": "ipython",
    "version": 3
   },
   "file_extension": ".py",
   "mimetype": "text/x-python",
   "name": "python",
   "nbconvert_exporter": "python",
   "pygments_lexer": "ipython3",
   "version": "3.6.13"
  }
 },
 "nbformat": 4,
 "nbformat_minor": 2
}
