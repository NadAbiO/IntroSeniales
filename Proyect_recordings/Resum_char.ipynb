{
 "cells": [
  {
   "cell_type": "code",
   "execution_count": 4,
   "metadata": {},
   "outputs": [
    {
     "name": "stdout",
     "output_type": "stream",
     "text": [
      "Resumen de características guardado en 'summarized_features.xlsx'\n"
     ]
    }
   ],
   "source": [
    "import pandas as pd\n",
    "\n",
    "def summarize_features(input_csv, output_csv):\n",
    "    # Leer el archivo CSV con las características\n",
    "    df = pd.read_csv(input_csv)\n",
    "\n",
    "    # Listar los nombres de los canales\n",
    "    channels = ['Fp1', 'Fp2', 'F3', 'F4', 'C3', 'C4', 'P3', 'P4']\n",
    "    \n",
    "    # Inicializar un diccionario para almacenar los datos resumidos\n",
    "    summary_data = {\n",
    "        'Channel': [],\n",
    "        'cD_Energy': [],\n",
    "        'cA_Energy': [],\n",
    "        'D_Entropy': [],\n",
    "        'A_Entropy': [],\n",
    "        'D_mean': [],\n",
    "        'A_mean': [],\n",
    "        'D_std': [],\n",
    "        'A_std': []\n",
    "    }\n",
    "\n",
    "    # Resumir las características para cada canal\n",
    "    for ch in channels:\n",
    "        summary_data['Channel'].append(ch)\n",
    "        summary_data['cD_Energy'].append(df[f'{ch}_cD_Energy'].mean())\n",
    "        summary_data['cA_Energy'].append(df[f'{ch}_cA_Energy'].mean())\n",
    "        summary_data['D_Entropy'].append(df[f'{ch}_D_Entropy'].mean())\n",
    "        summary_data['A_Entropy'].append(df[f'{ch}_A_Entropy'].mean())\n",
    "        summary_data['D_mean'].append(df[f'{ch}_D_mean'].mean())\n",
    "        summary_data['A_mean'].append(df[f'{ch}_A_mean'].mean())\n",
    "        summary_data['D_std'].append(df[f'{ch}_D_std'].mean())\n",
    "        summary_data['A_std'].append(df[f'{ch}_A_std'].mean())\n",
    "\n",
    "    # Convertir el diccionario a un DataFrame\n",
    "    summary_df = pd.DataFrame(summary_data)\n",
    "\n",
    "    # Guardar el DataFrame resumido en un archivo Excel\n",
    "    summary_df.to_excel(output_csv, index=False)\n",
    "\n",
    "# Uso de la función para resumir las características y guardarlas en un nuevo archivo Excel\n",
    "path='Nadira_char'\n",
    "input_csv = path+'.csv'\n",
    "output_csv = path+'_resum.xlsx'\n",
    "summarize_features(input_csv, output_csv)\n",
    "\n",
    "print(\"Resumen de características guardado en 'summarized_features.xlsx'\")\n"
   ]
  }
 ],
 "metadata": {
  "kernelspec": {
   "display_name": "ISB_2024",
   "language": "python",
   "name": "python3"
  },
  "language_info": {
   "codemirror_mode": {
    "name": "ipython",
    "version": 3
   },
   "file_extension": ".py",
   "mimetype": "text/x-python",
   "name": "python",
   "nbconvert_exporter": "python",
   "pygments_lexer": "ipython3",
   "version": "3.6.13"
  }
 },
 "nbformat": 4,
 "nbformat_minor": 2
}
